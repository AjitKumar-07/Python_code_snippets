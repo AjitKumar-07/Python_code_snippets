{
 "cells": [
  {
   "cell_type": "markdown",
   "id": "23e5432a",
   "metadata": {},
   "source": [
    "### Numpy"
   ]
  },
  {
   "cell_type": "markdown",
   "id": "65009ab8",
   "metadata": {},
   "source": [
    "* Numpy is a python library\n",
    "* It is used for Working with arrays\n",
    "* it is short for Numerical Pyhton\n",
    "* It is used for computation and processing of single and multi-dimensional array of elements.\n",
    "* smaller memory consumption and better runtime behavior"
   ]
  },
  {
   "cell_type": "code",
   "execution_count": 79,
   "id": "d8362b0c",
   "metadata": {},
   "outputs": [],
   "source": [
    "import numpy as np"
   ]
  },
  {
   "cell_type": "code",
   "execution_count": 7,
   "id": "6699fee9",
   "metadata": {},
   "outputs": [
    {
     "name": "stdout",
     "output_type": "stream",
     "text": [
      "[1 2 3]\n"
     ]
    }
   ],
   "source": [
    "a = np.array([1,2,3])\n",
    "print(a)"
   ]
  },
  {
   "cell_type": "code",
   "execution_count": 9,
   "id": "c66d36a5",
   "metadata": {},
   "outputs": [
    {
     "data": {
      "text/plain": [
       "numpy.ndarray"
      ]
     },
     "execution_count": 9,
     "metadata": {},
     "output_type": "execute_result"
    }
   ],
   "source": [
    "type(a)\n",
    "# ndarray i.e n dimensional array \n",
    "# there are 1-d, 2-d, 3-d....so on.. n dimensional array"
   ]
  },
  {
   "cell_type": "code",
   "execution_count": 11,
   "id": "13cd953a",
   "metadata": {},
   "outputs": [
    {
     "name": "stdout",
     "output_type": "stream",
     "text": [
      "[1. 2. 3.]\n"
     ]
    }
   ],
   "source": [
    "a=np.array([1,2,3], dtype = float)\n",
    "print(a)"
   ]
  },
  {
   "cell_type": "code",
   "execution_count": 13,
   "id": "3a8ec042",
   "metadata": {},
   "outputs": [
    {
     "name": "stdout",
     "output_type": "stream",
     "text": [
      "[[1 2 3]\n",
      " [4 5 6]]\n"
     ]
    }
   ],
   "source": [
    "b= np.array([[1,2,3],[4,5,6]])\n",
    "print(b)\n"
   ]
  },
  {
   "cell_type": "code",
   "execution_count": 15,
   "id": "2d0d30fb",
   "metadata": {},
   "outputs": [
    {
     "data": {
      "text/plain": [
       "1"
      ]
     },
     "execution_count": 15,
     "metadata": {},
     "output_type": "execute_result"
    }
   ],
   "source": [
    "#get dimensions of a numpy array\n",
    "a.ndim"
   ]
  },
  {
   "cell_type": "code",
   "execution_count": 17,
   "id": "500f26f3",
   "metadata": {},
   "outputs": [
    {
     "data": {
      "text/plain": [
       "2"
      ]
     },
     "execution_count": 17,
     "metadata": {},
     "output_type": "execute_result"
    }
   ],
   "source": [
    "b.ndim"
   ]
  },
  {
   "cell_type": "code",
   "execution_count": 19,
   "id": "7c1d00b0",
   "metadata": {},
   "outputs": [
    {
     "name": "stdout",
     "output_type": "stream",
     "text": [
      "[[[[1 2 3]\n",
      "   [4 5 6]\n",
      "   [7 8 9]]]]\n"
     ]
    }
   ],
   "source": [
    "d=np.array([[[[1,2,3],[4,5,6],[7,8,9]]]])\n",
    "print(d)"
   ]
  },
  {
   "cell_type": "code",
   "execution_count": 21,
   "id": "58227744",
   "metadata": {},
   "outputs": [
    {
     "data": {
      "text/plain": [
       "4"
      ]
     },
     "execution_count": 21,
     "metadata": {},
     "output_type": "execute_result"
    }
   ],
   "source": [
    "d.ndim # it shows the dimension of that array"
   ]
  },
  {
   "cell_type": "code",
   "execution_count": 23,
   "id": "ccf02317",
   "metadata": {},
   "outputs": [
    {
     "data": {
      "text/plain": [
       "array([1., 2., 3.])"
      ]
     },
     "execution_count": 23,
     "metadata": {},
     "output_type": "execute_result"
    }
   ],
   "source": [
    "a"
   ]
  },
  {
   "cell_type": "code",
   "execution_count": 25,
   "id": "12e668dd",
   "metadata": {},
   "outputs": [
    {
     "data": {
      "text/plain": [
       "(3,)"
      ]
     },
     "execution_count": 25,
     "metadata": {},
     "output_type": "execute_result"
    }
   ],
   "source": [
    "#get a shape of a numpy array\n",
    "a.shape"
   ]
  },
  {
   "cell_type": "code",
   "execution_count": 33,
   "id": "ced82eb9",
   "metadata": {},
   "outputs": [
    {
     "data": {
      "text/plain": [
       "dtype('float64')"
      ]
     },
     "execution_count": 33,
     "metadata": {},
     "output_type": "execute_result"
    }
   ],
   "source": [
    "a.dtype"
   ]
  },
  {
   "cell_type": "code",
   "execution_count": 27,
   "id": "7e9d350e",
   "metadata": {},
   "outputs": [
    {
     "data": {
      "text/plain": [
       "array([[1, 2, 3],\n",
       "       [4, 5, 6]])"
      ]
     },
     "execution_count": 27,
     "metadata": {},
     "output_type": "execute_result"
    }
   ],
   "source": [
    "b"
   ]
  },
  {
   "cell_type": "code",
   "execution_count": 29,
   "id": "6168c404",
   "metadata": {},
   "outputs": [
    {
     "data": {
      "text/plain": [
       "(2, 3)"
      ]
     },
     "execution_count": 29,
     "metadata": {},
     "output_type": "execute_result"
    }
   ],
   "source": [
    "b.shape"
   ]
  },
  {
   "cell_type": "code",
   "execution_count": 34,
   "id": "eaa32cb8",
   "metadata": {},
   "outputs": [
    {
     "data": {
      "text/plain": [
       "dtype('int32')"
      ]
     },
     "execution_count": 34,
     "metadata": {},
     "output_type": "execute_result"
    }
   ],
   "source": [
    "b.dtype"
   ]
  },
  {
   "cell_type": "code",
   "execution_count": 31,
   "id": "b2c60c31",
   "metadata": {},
   "outputs": [
    {
     "data": {
      "text/plain": [
       "array([[[[1, 2, 3],\n",
       "         [4, 5, 6],\n",
       "         [7, 8, 9]]]])"
      ]
     },
     "execution_count": 31,
     "metadata": {},
     "output_type": "execute_result"
    }
   ],
   "source": [
    "d"
   ]
  },
  {
   "cell_type": "code",
   "execution_count": 32,
   "id": "f99df9cb",
   "metadata": {},
   "outputs": [
    {
     "data": {
      "text/plain": [
       "(1, 1, 3, 3)"
      ]
     },
     "execution_count": 32,
     "metadata": {},
     "output_type": "execute_result"
    }
   ],
   "source": [
    "d.shape"
   ]
  },
  {
   "cell_type": "code",
   "execution_count": 35,
   "id": "01e755ef",
   "metadata": {},
   "outputs": [
    {
     "data": {
      "text/plain": [
       "dtype('int32')"
      ]
     },
     "execution_count": 35,
     "metadata": {},
     "output_type": "execute_result"
    }
   ],
   "source": [
    "d.dtype"
   ]
  },
  {
   "cell_type": "markdown",
   "id": "bde12270",
   "metadata": {},
   "source": [
    "### Accessing/changing specific elements, rows & columns etc."
   ]
  },
  {
   "cell_type": "code",
   "execution_count": 37,
   "id": "d76ed076",
   "metadata": {},
   "outputs": [
    {
     "name": "stdout",
     "output_type": "stream",
     "text": [
      "[[ 1  2  3  4  5  6  7]\n",
      " [ 8  9 10 11 12 13 14]]\n"
     ]
    }
   ],
   "source": [
    "a= np.array([[1,2,3,4,5,6,7],[8,9,10,11,12,13,14]])\n",
    "print(a)"
   ]
  },
  {
   "cell_type": "code",
   "execution_count": 39,
   "id": "5831451a",
   "metadata": {},
   "outputs": [
    {
     "data": {
      "text/plain": [
       "2"
      ]
     },
     "execution_count": 39,
     "metadata": {},
     "output_type": "execute_result"
    }
   ],
   "source": [
    "a.ndim"
   ]
  },
  {
   "cell_type": "code",
   "execution_count": 41,
   "id": "b9de0588",
   "metadata": {},
   "outputs": [
    {
     "data": {
      "text/plain": [
       "4"
      ]
     },
     "execution_count": 41,
     "metadata": {},
     "output_type": "execute_result"
    }
   ],
   "source": [
    "#get a specific elements [r,c]\n",
    "a[0,3]"
   ]
  },
  {
   "cell_type": "code",
   "execution_count": 43,
   "id": "29e5134f",
   "metadata": {},
   "outputs": [
    {
     "data": {
      "text/plain": [
       "8"
      ]
     },
     "execution_count": 43,
     "metadata": {},
     "output_type": "execute_result"
    }
   ],
   "source": [
    "a[1,0]"
   ]
  },
  {
   "cell_type": "code",
   "execution_count": 45,
   "id": "e861f0b9",
   "metadata": {},
   "outputs": [
    {
     "data": {
      "text/plain": [
       "13"
      ]
     },
     "execution_count": 45,
     "metadata": {},
     "output_type": "execute_result"
    }
   ],
   "source": [
    "a[1,5]"
   ]
  },
  {
   "cell_type": "code",
   "execution_count": 47,
   "id": "3f598900",
   "metadata": {},
   "outputs": [
    {
     "data": {
      "text/plain": [
       "array([1, 2, 3, 4, 5, 6, 7])"
      ]
     },
     "execution_count": 47,
     "metadata": {},
     "output_type": "execute_result"
    }
   ],
   "source": [
    "#get specific row from a numpy array\n",
    "a[0,:]"
   ]
  },
  {
   "cell_type": "code",
   "execution_count": 49,
   "id": "b0346819",
   "metadata": {},
   "outputs": [
    {
     "data": {
      "text/plain": [
       "array([1, 8])"
      ]
     },
     "execution_count": 49,
     "metadata": {},
     "output_type": "execute_result"
    }
   ],
   "source": [
    "#get specific column from a numpy array\n",
    "a[:,0]"
   ]
  },
  {
   "cell_type": "code",
   "execution_count": 51,
   "id": "e9382ce2",
   "metadata": {},
   "outputs": [
    {
     "data": {
      "text/plain": [
       "array([[ 1,  2,  3,  4,  5,  6,  7],\n",
       "       [ 8,  9, 10, 11, 12, 13, 14]])"
      ]
     },
     "execution_count": 51,
     "metadata": {},
     "output_type": "execute_result"
    }
   ],
   "source": [
    "a"
   ]
  },
  {
   "cell_type": "code",
   "execution_count": 53,
   "id": "375ac623",
   "metadata": {},
   "outputs": [
    {
     "name": "stdout",
     "output_type": "stream",
     "text": [
      "[[ 1  2  3 40  5  6  7]\n",
      " [ 8  9 10 11 12 13 14]]\n"
     ]
    }
   ],
   "source": [
    "a[0,3]=40 # change the 4th value in 1st row to 40\n",
    "print(a)"
   ]
  },
  {
   "cell_type": "markdown",
   "id": "eeaba3b7",
   "metadata": {},
   "source": [
    "### Zeros/Ones/Full method in Numpy"
   ]
  },
  {
   "cell_type": "code",
   "execution_count": 57,
   "id": "c5fcc872",
   "metadata": {},
   "outputs": [
    {
     "data": {
      "text/plain": [
       "array([[0., 0., 0.],\n",
       "       [0., 0., 0.],\n",
       "       [0., 0., 0.]])"
      ]
     },
     "execution_count": 57,
     "metadata": {},
     "output_type": "execute_result"
    }
   ],
   "source": [
    "np.zeros((3,3)) # here we are defining all the elements to zero"
   ]
  },
  {
   "cell_type": "code",
   "execution_count": 59,
   "id": "d745b01f",
   "metadata": {},
   "outputs": [
    {
     "data": {
      "text/plain": [
       "array([[1., 1., 1.],\n",
       "       [1., 1., 1.],\n",
       "       [1., 1., 1.]])"
      ]
     },
     "execution_count": 59,
     "metadata": {},
     "output_type": "execute_result"
    }
   ],
   "source": [
    "np.ones((3,3))"
   ]
  },
  {
   "cell_type": "code",
   "execution_count": 61,
   "id": "82883924",
   "metadata": {},
   "outputs": [
    {
     "data": {
      "text/plain": [
       "array([[1, 1, 1],\n",
       "       [1, 1, 1],\n",
       "       [1, 1, 1]])"
      ]
     },
     "execution_count": 61,
     "metadata": {},
     "output_type": "execute_result"
    }
   ],
   "source": [
    "np.ones((3,3), dtype='int32')"
   ]
  },
  {
   "cell_type": "code",
   "execution_count": 64,
   "id": "f017b32c",
   "metadata": {},
   "outputs": [
    {
     "data": {
      "text/plain": [
       "array([[50., 50., 50.],\n",
       "       [50., 50., 50.],\n",
       "       [50., 50., 50.]])"
      ]
     },
     "execution_count": 64,
     "metadata": {},
     "output_type": "execute_result"
    }
   ],
   "source": [
    "np.full((3,3), 50, dtype = 'float64')"
   ]
  },
  {
   "cell_type": "code",
   "execution_count": 66,
   "id": "d9f455e9",
   "metadata": {},
   "outputs": [
    {
     "data": {
      "text/plain": [
       "array([[0.04283357, 0.56759946, 0.8106331 , 0.60203226],\n",
       "       [0.59991946, 0.77623271, 0.81355431, 0.42318503],\n",
       "       [0.90286824, 0.38993527, 0.16966914, 0.27540542],\n",
       "       [0.2549744 , 0.00939729, 0.04397491, 0.97156523]])"
      ]
     },
     "execution_count": 66,
     "metadata": {},
     "output_type": "execute_result"
    }
   ],
   "source": [
    "np.random.rand(4,4)"
   ]
  },
  {
   "cell_type": "code",
   "execution_count": 69,
   "id": "56850844",
   "metadata": {},
   "outputs": [
    {
     "data": {
      "text/plain": [
       "array([[-1, -2, -2],\n",
       "       [-4,  0, -1],\n",
       "       [-1, -4, -4]])"
      ]
     },
     "execution_count": 69,
     "metadata": {},
     "output_type": "execute_result"
    }
   ],
   "source": [
    "np.random.randint(-4,1, size=(3,3))"
   ]
  },
  {
   "cell_type": "code",
   "execution_count": 71,
   "id": "99b17681",
   "metadata": {},
   "outputs": [
    {
     "data": {
      "text/plain": [
       "array([[1., 0., 0., 0., 0.],\n",
       "       [0., 1., 0., 0., 0.],\n",
       "       [0., 0., 1., 0., 0.],\n",
       "       [0., 0., 0., 1., 0.],\n",
       "       [0., 0., 0., 0., 1.]])"
      ]
     },
     "execution_count": 71,
     "metadata": {},
     "output_type": "execute_result"
    }
   ],
   "source": [
    "np.identity(5) # all left to right digonally value will be 1"
   ]
  },
  {
   "cell_type": "markdown",
   "id": "53e063c2",
   "metadata": {},
   "source": [
    "### Practice Question"
   ]
  },
  {
   "cell_type": "markdown",
   "id": "fd42181b",
   "metadata": {},
   "source": [
    "Q1. Extract all the first 3 rows of the last 5 columns in a given numpy 2D array 'a'?"
   ]
  },
  {
   "cell_type": "code",
   "execution_count": 75,
   "id": "fc22f626",
   "metadata": {},
   "outputs": [
    {
     "data": {
      "text/plain": [
       "array([[ 1,  2,  3,  4,  5,  6],\n",
       "       [10, 20, 30, 40, 50, 60],\n",
       "       [12, 12, 12, 12, 12, 12],\n",
       "       [11, 21, 31, 41, 51, 61],\n",
       "       [13, 24, 34, 44, 54, 64]])"
      ]
     },
     "execution_count": 75,
     "metadata": {},
     "output_type": "execute_result"
    }
   ],
   "source": [
    "a = np.array([[1,2,3,4,5,6],\n",
    "             [10,20,30,40,50,60],\n",
    "             [12,12,12,12,12,12],\n",
    "             [11,21,31,41,51,61],\n",
    "             [13,24,34,44,54,64]])\n",
    "a"
   ]
  },
  {
   "cell_type": "code",
   "execution_count": 77,
   "id": "5530e4c9",
   "metadata": {},
   "outputs": [
    {
     "data": {
      "text/plain": [
       "array([[ 2,  3,  4,  5,  6],\n",
       "       [20, 30, 40, 50, 60],\n",
       "       [12, 12, 12, 12, 12]])"
      ]
     },
     "execution_count": 77,
     "metadata": {},
     "output_type": "execute_result"
    }
   ],
   "source": [
    "a[:3, -5:]"
   ]
  },
  {
   "cell_type": "markdown",
   "id": "71b16fc8",
   "metadata": {},
   "source": [
    "Q2. Given a positive number 'n' greater than 2, create a Numpy array of size (nXn) with all zeros and ones such that the ones make a shape of \"+\""
   ]
  },
  {
   "cell_type": "code",
   "execution_count": 83,
   "id": "e34dc118",
   "metadata": {},
   "outputs": [
    {
     "name": "stdout",
     "output_type": "stream",
     "text": [
      "[[0 0 0 0 0]\n",
      " [0 0 0 0 0]\n",
      " [0 0 0 0 0]\n",
      " [0 0 0 0 0]\n",
      " [0 0 0 0 0]]\n"
     ]
    }
   ],
   "source": [
    "# create an (nXn) array with all Zeros\n",
    "n=5 \n",
    "#if we don't want hard coded value ,if we wants user input then ,n=int(input())\n",
    "\n",
    "z= np.zeros((n,n), dtype='int')\n",
    "print(z)"
   ]
  },
  {
   "cell_type": "code",
   "execution_count": 86,
   "id": "0ac31526",
   "metadata": {},
   "outputs": [
    {
     "name": "stdout",
     "output_type": "stream",
     "text": [
      "[[0 0 1 0 0]\n",
      " [0 0 1 0 0]\n",
      " [1 1 1 1 1]\n",
      " [0 0 1 0 0]\n",
      " [0 0 1 0 0]]\n"
     ]
    }
   ],
   "source": [
    "# make the middle row and column all 1's\n",
    "z[n//2,:]=1\n",
    "z[:,n//2]=1\n",
    "\n",
    "#print the final value of z\n",
    "print(z)"
   ]
  },
  {
   "cell_type": "markdown",
   "id": "bc29e282",
   "metadata": {},
   "source": [
    "just to help you understand about n//2"
   ]
  },
  {
   "cell_type": "code",
   "execution_count": 91,
   "id": "856b15b2",
   "metadata": {},
   "outputs": [
    {
     "data": {
      "text/plain": [
       "array([[ 1,  2,  3,  4,  5,  6],\n",
       "       [10, 20, 30, 40, 50, 60],\n",
       "       [12, 12, 12, 12, 12, 12],\n",
       "       [11, 21, 31, 41, 51, 61],\n",
       "       [13, 24, 34, 44, 54, 64]])"
      ]
     },
     "execution_count": 91,
     "metadata": {},
     "output_type": "execute_result"
    }
   ],
   "source": [
    "a = np.array([[1,2,3,4,5,6],\n",
    "             [10,20,30,40,50,60],\n",
    "             [12,12,12,12,12,12],\n",
    "             [11,21,31,41,51,61],\n",
    "             [13,24,34,44,54,64]])\n",
    "a"
   ]
  },
  {
   "cell_type": "code",
   "execution_count": 93,
   "id": "4415d6ed",
   "metadata": {},
   "outputs": [
    {
     "data": {
      "text/plain": [
       "array([12, 12, 12, 12, 12, 12])"
      ]
     },
     "execution_count": 93,
     "metadata": {},
     "output_type": "execute_result"
    }
   ],
   "source": [
    "a[5//2,:] # it will give you the middle row"
   ]
  },
  {
   "cell_type": "code",
   "execution_count": 94,
   "id": "86d9c7a9",
   "metadata": {},
   "outputs": [
    {
     "data": {
      "text/plain": [
       "array([ 3, 30, 12, 31, 34])"
      ]
     },
     "execution_count": 94,
     "metadata": {},
     "output_type": "execute_result"
    }
   ],
   "source": [
    "a[:,5//2] # it will give you the middle column"
   ]
  },
  {
   "cell_type": "code",
   "execution_count": 95,
   "id": "bc3cf566",
   "metadata": {},
   "outputs": [
    {
     "name": "stdout",
     "output_type": "stream",
     "text": [
      "[[ 1  2  3  4  5  6]\n",
      " [10 20 30 40 50 60]\n",
      " [ 1  1  1  1  1  1]\n",
      " [11 21 31 41 51 61]\n",
      " [13 24 34 44 54 64]]\n"
     ]
    }
   ],
   "source": [
    "a[5//2,:]=1\n",
    "print(a)  # all the middle row will be 1"
   ]
  },
  {
   "cell_type": "code",
   "execution_count": 97,
   "id": "f1b2a5b3",
   "metadata": {},
   "outputs": [
    {
     "name": "stdout",
     "output_type": "stream",
     "text": [
      "[[ 1  2  1  4  5  6]\n",
      " [10 20  1 40 50 60]\n",
      " [ 1  1  1  1  1  1]\n",
      " [11 21  1 41 51 61]\n",
      " [13 24  1 44 54 64]]\n"
     ]
    }
   ],
   "source": [
    "a[:,5//2]=1\n",
    "print(a) # all the middle column value will be 1"
   ]
  },
  {
   "cell_type": "markdown",
   "id": "05473a3c",
   "metadata": {},
   "source": [
    "### Airthmetic operation with Numpy- maths + Stats"
   ]
  },
  {
   "cell_type": "code",
   "execution_count": 112,
   "id": "13a23910",
   "metadata": {},
   "outputs": [
    {
     "data": {
      "text/plain": [
       "array([1, 2, 3, 4])"
      ]
     },
     "execution_count": 112,
     "metadata": {},
     "output_type": "execute_result"
    }
   ],
   "source": [
    "a = np.array([1,2,3,4])\n",
    "a"
   ]
  },
  {
   "cell_type": "code",
   "execution_count": 109,
   "id": "b94ee5eb",
   "metadata": {},
   "outputs": [
    {
     "data": {
      "text/plain": [
       "array([3, 4, 5, 6])"
      ]
     },
     "execution_count": 109,
     "metadata": {},
     "output_type": "execute_result"
    }
   ],
   "source": [
    "a+2"
   ]
  },
  {
   "cell_type": "code",
   "execution_count": 115,
   "id": "c09a7598",
   "metadata": {},
   "outputs": [
    {
     "data": {
      "text/plain": [
       "array([ 1,  8, 27, 64], dtype=int32)"
      ]
     },
     "execution_count": 115,
     "metadata": {},
     "output_type": "execute_result"
    }
   ],
   "source": [
    "#do it for \" -,/,*,//,** \" Almost all operations are satisfied\n",
    "a**3"
   ]
  },
  {
   "cell_type": "code",
   "execution_count": 117,
   "id": "b1165b7a",
   "metadata": {},
   "outputs": [
    {
     "data": {
      "text/plain": [
       "array([1, 2, 3, 4])"
      ]
     },
     "execution_count": 117,
     "metadata": {},
     "output_type": "execute_result"
    }
   ],
   "source": [
    "a"
   ]
  },
  {
   "cell_type": "code",
   "execution_count": 119,
   "id": "76e421a5",
   "metadata": {},
   "outputs": [
    {
     "data": {
      "text/plain": [
       "1"
      ]
     },
     "execution_count": 119,
     "metadata": {},
     "output_type": "execute_result"
    }
   ],
   "source": [
    "a.min() # or we can write np.min(a)"
   ]
  },
  {
   "cell_type": "code",
   "execution_count": 121,
   "id": "1f95fb72",
   "metadata": {},
   "outputs": [
    {
     "data": {
      "text/plain": [
       "4"
      ]
     },
     "execution_count": 121,
     "metadata": {},
     "output_type": "execute_result"
    }
   ],
   "source": [
    "a.max() # or we can write np.max(a)"
   ]
  },
  {
   "cell_type": "code",
   "execution_count": 124,
   "id": "a0dc4e16",
   "metadata": {},
   "outputs": [
    {
     "data": {
      "text/plain": [
       "2.5"
      ]
     },
     "execution_count": 124,
     "metadata": {},
     "output_type": "execute_result"
    }
   ],
   "source": [
    "a.mean() # or we can write np.mean(a)"
   ]
  }
 ],
 "metadata": {
  "kernelspec": {
   "display_name": "Python 3",
   "language": "python",
   "name": "python3"
  },
  "language_info": {
   "codemirror_mode": {
    "name": "ipython",
    "version": 3
   },
   "file_extension": ".py",
   "mimetype": "text/x-python",
   "name": "python",
   "nbconvert_exporter": "python",
   "pygments_lexer": "ipython3",
   "version": "3.8.8"
  }
 },
 "nbformat": 4,
 "nbformat_minor": 5
}
